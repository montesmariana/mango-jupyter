{
 "cells": [
  {
   "cell_type": "markdown",
   "id": "ddbda0ea-53df-4dc9-b8c4-aeb836a5a964",
   "metadata": {
    "tags": []
   },
   "source": [
    "# Basic workflow with ManGO\n",
    "\n",
    "## Authentication with iCommands\n",
    "\n",
    "<div class=\"alert alert-block alert-info\">\n",
    "<h3>Every seven days</h3>\n",
    "    \n",
    "1. Go to https://mango.kuleuven.be/\n",
    "2. In the tab of your zone, click on \"How to connect\"\n",
    "3. Copy the snippet provided under \"iCommands Client on Linux\".\n",
    "\n",
    "<font size=3>Then **paste the snippet** in the cell below, right under `%%bash`, like the (anonimized) example below.</font>\n",
    "\n",
    "(Replacing the `USERNAME` with your username and the `TOKEN` with the password provided by \"How to connect\" should also work.)\n",
    "\n",
    "**You don't need to do this every time: The authentication lasts 7 days.**\n",
    "</div>"
   ]
  },
  {
   "cell_type": "code",
   "execution_count": null,
   "id": "75389006-f33e-400a-955d-32d0c8e2cdef",
   "metadata": {},
   "outputs": [],
   "source": [
    "%%bash\n",
    "mkdir -p ~/.irods\n",
    "cat > ~/.irods/irods_environment.json <<'EOF'\n",
    "{\n",
    "    \"irods_host\": \"ghum.irods.icts.kuleuven.be\",\n",
    "    \"irods_port\": 1247,\n",
    "    \"irods_zone_name\": \"ghum\",\n",
    "    \"irods_authentication_scheme\": \"pam_password\",\n",
    "    \"irods_encryption_algorithm\": \"AES-256-CBC\",\n",
    "    \"irods_encryption_salt_size\": 8,\n",
    "    \"irods_encryption_key_size\": 32,\n",
    "    \"irods_encryption_num_hash_rounds\": 8,\n",
    "    \"irods_user_name\": \"USERNAME\",\n",
    "    \"irods_ssl_ca_certificate_file\": \"\",\n",
    "    \"irods_ssl_verify_server\": \"cert\",\n",
    "    \"irods_client_server_negotiation\": \"request_server_negotiation\",\n",
    "    \"irods_client_server_policy\": \"CS_NEG_REQUIRE\",\n",
    "    \"irods_default_resource\": \"default\",\n",
    "    \"irods_cwd\": \"/ghum/home\"\n",
    "}\n",
    "EOF\n",
    "iinit -h | grep Version | grep -v -q 4.2. || sed -i 's/\"irods_authentication_scheme\": \"pam_password\"/\"irods_authentication_scheme\": \"PAM\"/' ~/.irods/irods_environment.json\n",
    "echo 'TOKEN' | iinit --ttl 168 >/dev/null && echo You are now authenticated to irods. Your session is valid for 168 hours.\n",
    "ils"
   ]
  },
  {
   "cell_type": "markdown",
   "id": "15f280ec-850f-4075-aed9-a014d51161d4",
   "metadata": {},
   "source": [
    "## Setting up\n",
    "\n",
    "Set up ManGO and load any other libraries you need."
   ]
  },
  {
   "cell_type": "code",
   "execution_count": 1,
   "id": "f2219fb0-0976-4c99-8517-b5d4410589e4",
   "metadata": {},
   "outputs": [],
   "source": [
    "import os\n",
    "import ssl\n",
    "from irods.session import iRODSSession\n",
    "try:\n",
    "    env_file = os.environ['IRODS_ENVIRONMENT_FILE']\n",
    "except KeyError:\n",
    "    env_file = os.path.expanduser('~/.irods/irods_environment.json')\n",
    "\n",
    "ssl_context = ssl.create_default_context(\n",
    "        purpose=ssl.Purpose.SERVER_AUTH,\n",
    "        cafile=None, capath=None, cadata=None\n",
    "        )\n",
    "ssl_settings = {'ssl_context': ssl_context}"
   ]
  },
  {
   "cell_type": "markdown",
   "id": "d4e70c2b-4b48-472b-9e1c-536aa76671e5",
   "metadata": {},
   "source": [
    "Since we are working interactively we will create an `irods.session.iRODSSession` object and then close it at the end of the notebook with `session.cleanup()`. If you were working on a script, you could run all your code inside a `with` statement."
   ]
  },
  {
   "cell_type": "code",
   "execution_count": 2,
   "id": "cbc35f71-9a79-478d-8f87-654b513048b8",
   "metadata": {},
   "outputs": [],
   "source": [
    "session = iRODSSession(irods_env_file=env_file, **ssl_settings)"
   ]
  },
  {
   "cell_type": "markdown",
   "id": "d2af0428-df48-4703-b0ce-da42ca6ebd3c",
   "metadata": {},
   "source": [
    "The final step to set up your environment is to define your working directory in a variable. For this notebook, it's \"/ghum/home/ghum_pilot034/\", but for your own project it might be **different**."
   ]
  },
  {
   "cell_type": "code",
   "execution_count": 3,
   "id": "b9ad885e-4c20-4252-8e82-9642e2e66fd4",
   "metadata": {},
   "outputs": [],
   "source": [
    "home_dir = \"/ghum/home/ghum_pilot034/\""
   ]
  },
  {
   "cell_type": "code",
   "execution_count": 4,
   "id": "0148b66d-1f71-480c-afe1-6ee481c57174",
   "metadata": {},
   "outputs": [],
   "source": [
    "dataset_dir = home_dir + \"DATASET_1\" # it might be a different name\n",
    "output_dir = home_dir + \"TEAM_1\" # it might be a different name"
   ]
  },
  {
   "cell_type": "markdown",
   "id": "1842b3c7-2eca-4648-99d5-20ef177b91ae",
   "metadata": {},
   "source": [
    "To set up the path to your SCRATCH, insert your VSC account number below"
   ]
  },
  {
   "cell_type": "code",
   "execution_count": null,
   "id": "f44d4d80-be8b-4abc-98ef-57efd22d711a",
   "metadata": {},
   "outputs": [],
   "source": [
    "vsc_user = \"INSERT ACCOUNT NUMBER HERE\"\n",
    "scratch_dir = f\"/scratch/leuven/{vsc_user[3:6]}/{vsc_user}/\"\n",
    "scratch_dir"
   ]
  },
  {
   "cell_type": "markdown",
   "id": "4c4640dd-f867-4902-8266-b9d6cb4dfd16",
   "metadata": {},
   "source": [
    "## WRITE YOUR CODE BELOW THIS"
   ]
  },
  {
   "cell_type": "code",
   "execution_count": null,
   "id": "0d4800e9-5889-4f8c-9375-3da5ba1e1f2d",
   "metadata": {},
   "outputs": [],
   "source": []
  },
  {
   "cell_type": "markdown",
   "id": "f05af7fa-54b7-4fbf-8047-f28c6899214e",
   "metadata": {
    "tags": []
   },
   "source": [
    "## CLEAN UP \n",
    "<div class=\"alert alert-block alert-warning\">\n",
    "    <font size=4><b>Do not forget to clean up your session!</b></font>\n",
    "</div>"
   ]
  },
  {
   "cell_type": "code",
   "execution_count": 5,
   "id": "d5ac3e5c-9bcb-4e3c-a385-4193245c4bc2",
   "metadata": {},
   "outputs": [],
   "source": [
    "# leave this cell at the end and running every time you are done\n",
    "session.cleanup()"
   ]
  }
 ],
 "metadata": {
  "kernelspec": {
   "display_name": "irods2",
   "language": "python",
   "name": "irods2"
  },
  "language_info": {
   "codemirror_mode": {
    "name": "ipython",
    "version": 3
   },
   "file_extension": ".py",
   "mimetype": "text/x-python",
   "name": "python",
   "nbconvert_exporter": "python",
   "pygments_lexer": "ipython3",
   "version": "3.10.8"
  }
 },
 "nbformat": 4,
 "nbformat_minor": 5
}
